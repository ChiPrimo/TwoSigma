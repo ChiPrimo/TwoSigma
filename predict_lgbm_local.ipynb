{
 "cells": [
  {
   "cell_type": "code",
   "execution_count": 198,
   "metadata": {},
   "outputs": [],
   "source": [
    "# This code is inspired by this kernel: https://www.kaggle.com/tapioca/lightgbm-score-booster\n",
    "# another kernel to read: https://www.kaggle.com/jadrayes/join-market-and-news-ii\n",
    "import numpy as np\n",
    "import pandas as pd\n",
    "import time\n",
    "import lightgbm as lgb\n",
    "import math\n",
    "import seaborn as sns\n",
    "from scipy.stats import pearsonr\n",
    "from sklearn.preprocessing import StandardScaler\n",
    "import talib\n",
    "pd.set_option('display.max_columns', 100)\n",
    "pd.set_option('display.max_rows', 1000)"
   ]
  },
  {
   "cell_type": "code",
   "execution_count": 199,
   "metadata": {},
   "outputs": [],
   "source": [
    "# Handling missing values\n",
    "def handle_missing_values(merged_data):\n",
    "    ## Handling missing values\n",
    "    # tutorial: https://towardsdatascience.com/handling-missing-values-in-machine-learning-part-1-dda69d4f88ca\n",
    "    ## preanalysis:\n",
    "    # 1. In market data, only PrevMktres have NaN's\n",
    "    # on 2001-01-01, PrevMktres1 are all NaN (1418)\n",
    "    # from 2007-01-01 to 02-14, PrevMktres10 are all NaN (14290)\n",
    "    # since 2007-02-15, PrevMktres1 have 0.4% NaN while PrevMktres10 have 2%\n",
    "    # 2. In news data, if merged, all features have valid values. So, NaN means not merged (about 72%)\n",
    "    # 3. more than half news have novelty of 0!\n",
    "    # 4. significant portion of news have volumeCount of 0 (>10%)\n",
    "    # 5. adding a new feature: noNews after filling NaN\n",
    "\n",
    "    # Market data: replacing NaN by implied market-adjusted returns\n",
    "    Raw_cols = ['returnsClosePrevRaw1', 'returnsOpenPrevRaw1', 'returnsClosePrevRaw10', 'returnsOpenPrevRaw10']\n",
    "    Mktres_cols = ['returnsClosePrevMktres1', 'returnsOpenPrevMktres1', 'returnsClosePrevMktres10', 'returnsOpenPrevMktres10']\n",
    "    Mkt_cols = ['returnClosePrevMkt1', 'returnOpenPrevMkt1', 'returnClosePrevMkt10', 'returnOpenPrevMkt10']\n",
    "    for i in range(len(Mkt_cols)):\n",
    "        merged_data[Mkt_cols[i]] = merged_data[Raw_cols[i]] - merged_data[Mktres_cols[i]]\n",
    "        merged_data[Mkt_cols[i]] = merged_data.groupby('time')[Mkt_cols[i]].transform(lambda x: x.mean())\n",
    "        merged_data[Mktres_cols[i]] = merged_data[Mktres_cols[i]].fillna(merged_data[Raw_cols[i]] - merged_data[Mkt_cols[i]])\n",
    "    \n",
    "    # News data: adding a 'nonews' feature & then, replacing NaN by a fixed constant\n",
    "    merged_data['noNews'] = merged_data.sentimentPositive.isnull().astype(int)\n",
    "    merged_data.fillna(-999, inplace=True)\n",
    "    assert merged_data.isnull().sum().sum() == 0\n",
    "    return merged_data"
   ]
  },
  {
   "cell_type": "code",
   "execution_count": 240,
   "metadata": {},
   "outputs": [],
   "source": [
    "# Prepare merged data for training & prediction\n",
    "def prepare_data(merged_data, lag_features_window_10, lag_features_window_1=[], n_lag=2):\n",
    "    ## Handling missing values\n",
    "    merged_data = handle_missing_values(merged_data)\n",
    "    \n",
    "    ## Feature engineering\n",
    "    # market features:\n",
    "    merged_data['daytrend'] = merged_data['close'] / merged_data['open']\n",
    "    #merged_data['average'] = (merged_data['close'] + merged_data['open']) / 2\n",
    "    #merged_data['moving_average_10_days'] = merged_data.groupby('assetCode')['open'].transform(lambda x: pd.Series.ewm(x, span=10).mean())\n",
    "    #merged_data['moving_average_20_days'] = merged_data.groupby('assetCode')['open'].transform(lambda x: pd.Series.ewm(x, span=20).mean())\n",
    "    #merged_data['moving_average_50_days'] = merged_data.groupby('assetCode')['open'].transform(lambda x: pd.Series.ewm(x, span=50).mean())\n",
    "    #merged_data['moving_average_100_days'] = merged_data.groupby('assetCode')['open'].transform(lambda x: pd.Series.ewm(x, span=100).mean())\n",
    "    #merged_data['moving_average_200_days'] = merged_data.groupby('assetCode')['open'].transform(lambda x: pd.Series.ewm(x, span=200).mean())\n",
    "    #merged_data['pricevolume'] = merged_data['volume'] * merged_data['close']\n",
    "    data_grouped = merged_data.groupby('assetCode')\n",
    "    # overlap studies\n",
    "    merged_data['upperband'] = data_grouped['open'].transform(lambda x: talib.BBANDS(x, timeperiod=10, nbdevup=2, nbdevdn=2, matype=0)[0]).fillna(0)\n",
    "    merged_data['middleband'] = data_grouped['open'].transform(lambda x: talib.BBANDS(x, timeperiod=10, nbdevup=2, nbdevdn=2, matype=0)[1]).fillna(0)    \n",
    "    merged_data['lowerband'] = data_grouped['open'].transform(lambda x: talib.BBANDS(x, timeperiod=10, nbdevup=2, nbdevdn=2, matype=0)[2]).fillna(0)\n",
    "    merged_data['percentb'] = ((merged_data.open - merged_data.lowerband) / (merged_data.upperband - merged_data.lowerband)).replace([-np.inf, np.inf], 0.5).fillna(0)\n",
    "    merged_data['bandwidth'] = ((merged_data.upperband - merged_data.lowerband) / merged_data.middleband).fillna(0)\n",
    "    # momentum indicator\n",
    "    merged_data['momopen10'] = data_grouped['open'].transform(lambda x: talib.MOM(x, timeperiod=10)).fillna(0)\n",
    "    merged_data['momclose10'] = data_grouped['close'].transform(lambda x: talib.MOM(x, timeperiod=10)).fillna(0)    \n",
    "    # volume indicator\n",
    "    #merged_data['obvclose'] = data_grouped[]\n",
    "    # cycle indicator\n",
    "    merged_data['cycle'] = data_grouped['close'].transform(lambda x: talib.HT_TRENDMODE(x)).fillna(0)\n",
    "    # statistical functions\n",
    "    merged_data['tsforecast'] = data_grouped['returnsOpenPrevMktres10'].transform(lambda x: talib.TSF(x, timeperiod=10)).fillna(0)\n",
    "    merged_data['variance'] = data_grouped['returnsOpenPrevMktres10'].transform(lambda x: talib.VAR(x, timeperiod=10, nbdev=1)).fillna(0)\n",
    "    \n",
    "    for i in range(n_lag):\n",
    "        for feature in lag_features_window_10:\n",
    "            merged_data['%s_lag_%s' % (feature, i+1)] = merged_data.groupby('assetCode')['%s' % feature].transform(lambda x: x.shift(10 * (i+1)).fillna(0))\n",
    "        for feature in lag_features_window_1:\n",
    "            merged_data['%s_lag_%s' % (feature, i+1)] = merged_data.groupby('assetCode')['%s' % feature].transform(lambda x: x.shift(1 * (i+1)).fillna(0))    \n",
    "    \n",
    "    \n",
    "    #merged_data['returnsOpenPrevMktres10_lag_1'] = merged_data.groupby('assetCode')['returnsOpenPrevMktres10'].transform(lambda x: x.shift(10).fillna(x.mean()))\n",
    "    #merged_data['returnsOpenPrevRaw10_lag_1'] = merged_data.groupby('assetCode')['returnsOpenPrevRaw10'].transform(lambda x: x.shift(10).fillna(x.mean()))\n",
    "    #merged_data['returnsOpenPrevMktres10_lag_2'] = merged_data.groupby('assetCode')['returnsOpenPrevMktres10'].transform(lambda x: x.shift(20).fillna(x.mean()))\n",
    "    #merged_data['returnsOpenPrevRaw10_lag_2'] = merged_data.groupby('assetCode')['returnsOpenPrevRaw10'].transform(lambda x: x.shift(20).fillna(x.mean()))\n",
    "    #merged_data['returnsOpenPrevMktres10_lag_3'] = merged_data.groupby('assetCode')['returnsOpenPrevMktres10'].transform(lambda x: x.shift(30).fillna(x.mean()))\n",
    "    #merged_data['returnsOpenPrevRaw10_lag_3'] = merged_data.groupby('assetCode')['returnsOpenPrevRaw10'].transform(lambda x: x.shift(30).fillna(x.mean()))\n",
    "    #merged_data['returnsOpenPrevMktres10_lag_4'] = merged_data.groupby('assetCode')['returnsOpenPrevMktres10'].transform(lambda x: x.shift(40).fillna(x.mean()))\n",
    "    #merged_data['returnsOpenPrevRaw10_lag_4'] = merged_data.groupby('assetCode')['returnsOpenPrevRaw10'].transform(lambda x: x.shift(40).fillna(x.mean()))\n",
    "    #merged_data['returnsOpenPrevMktres10_lag_5'] = merged_data.groupby('assetCode')['returnsOpenPrevMktres10'].transform(lambda x: x.shift(50).fillna(x.mean()))\n",
    "    #merged_data['returnsOpenPrevRaw10_lag_5'] = merged_data.groupby('assetCode')['returnsOpenPrevRaw10'].transform(lambda x: x.shift(50).fillna(x.mean()))\n",
    "    #merged_data['returnsClosePrevMktres10_lag_1'] = merged_data.groupby('assetCode')['returnsClosePrevMktres10'].transform(lambda x: x.shift(10).fillna(x.mean()))\n",
    "    #merged_data['returnsClosePrevRaw10_lag_1'] = merged_data.groupby('assetCode')['returnsClosePrevRaw10'].transform(lambda x: x.shift(10).fillna(x.mean()))\n",
    "    #merged_data['returnsClosePrevMktres10_lag_2'] = merged_data.groupby('assetCode')['returnsClosePrevMktres10'].transform(lambda x: x.shift(20).fillna(x.mean()))\n",
    "    #merged_data['returnsClosePrevRaw10_lag_2'] = merged_data.groupby('assetCode')['returnsClosePrevRaw10'].transform(lambda x: x.shift(20).fillna(x.mean()))\n",
    "    #merged_data['returnsClosePrevMktres10_lag_3'] = merged_data.groupby('assetCode')['returnsClosePrevMktres10'].transform(lambda x: x.shift(30).fillna(x.mean()))\n",
    "    #merged_data['returnsClosePrevRaw10_lag_3'] = merged_data.groupby('assetCode')['returnsClosePrevRaw10'].transform(lambda x: x.shift(30).fillna(x.mean()))\n",
    "    #merged_data['returnsClosePrevMktres10_lag_4'] = merged_data.groupby('assetCode')['returnsClosePrevMktres10'].transform(lambda x: x.shift(40).fillna(x.mean()))\n",
    "    #merged_data['returnsClosePrevRaw10_lag_4'] = merged_data.groupby('assetCode')['returnsClosePrevRaw10'].transform(lambda x: x.shift(40).fillna(x.mean()))\n",
    "    #merged_data['returnsClosePrevMktres10_lag_5'] = merged_data.groupby('assetCode')['returnsClosePrevMktres10'].transform(lambda x: x.shift(50).fillna(x.mean()))\n",
    "    #merged_data['returnsClosePrevRaw10_lag_5'] = merged_data.groupby('assetCode')['returnsClosePrevRaw10'].transform(lambda x: x.shift(50).fillna(x.mean()))\n",
    "    \n",
    "    # news features (all numeric news features are included)\n",
    "    merged_data['position'] = merged_data['firstMentionSentence'] / merged_data['sentenceCount']\n",
    "    merged_data['coverage'] = merged_data['sentimentWordCount'] / merged_data['wordCount']\n",
    "    \n",
    "    #merged_data = merged_data.drop(columns=dropfeatures)\n",
    "\n",
    "    return merged_data"
   ]
  },
  {
   "cell_type": "code",
   "execution_count": 201,
   "metadata": {},
   "outputs": [],
   "source": [
    "# Handling missing values (old version)\n",
    "#nancols = [col for col in merged_data.columns if col not in ['time', 'assetCode', 'assetName', 'universe']]\n",
    "#for i in range(len(nancols)):\n",
    "    # first, fill in nan by feature mean of each assetCode\n",
    "#    merged_data[nancols[i]] = merged_data.groupby('assetCode')[nancols[i]].transform(lambda x: x.fillna(x.mean()))\n",
    "    # if nan still exists, fill in nan by feature mean of all assetCode's\n",
    "#    merged_data[nancols[i]] = merged_data[nancols[i]].transform(lambda x: x.fillna(x.mean()))"
   ]
  },
  {
   "cell_type": "code",
   "execution_count": 202,
   "metadata": {},
   "outputs": [],
   "source": [
    "# Removing outliers (defined as data m times std. away from its mean)\n",
    "def remove_outliers(data, columns, m=3):\n",
    "    \"\"\"\n",
    "    type data: DataFrame\n",
    "    type columns: list[str]\n",
    "    type m: int\n",
    "    rtype: DataFrame\n",
    "    \"\"\"\n",
    "    normal = np.asarray([True] * len(data))\n",
    "    for i in range(len(columns)):\n",
    "        normal = normal & (abs(data[columns[i]] - np.mean(data[columns[i]])) <= m * np.std(data[columns[i]]))\n",
    "    return data[normal]"
   ]
  },
  {
   "cell_type": "code",
   "execution_count": 203,
   "metadata": {},
   "outputs": [],
   "source": [
    "# Computing daily score from prediction\n",
    "def daily_score(predtemplatedf):\n",
    "    \"\"\"\n",
    "    type predtemplatedf: DataFrame (shape: number of assetCode's in one day * 5)\n",
    "    rtype: float\n",
    "    \"\"\"\n",
    "    return (predtemplatedf.universe * predtemplatedf.returnsOpenNextMktres10 * predtemplatedf.confidenceValue).sum()"
   ]
  },
  {
   "cell_type": "code",
   "execution_count": 204,
   "metadata": {},
   "outputs": [],
   "source": [
    "# Computing final submission score\n",
    "def final_score(score):\n",
    "    \"\"\"\n",
    "    type score: DataFrame (shape: number of unique days in the test set * 2)\n",
    "    rtype: float\n",
    "    \"\"\"\n",
    "    return np.mean(score.daily_score) / np.std(score.daily_score)"
   ]
  },
  {
   "cell_type": "code",
   "execution_count": 205,
   "metadata": {},
   "outputs": [],
   "source": [
    "# For returns prediction at each date, rescale it to mean return of zero and std of 0.125. (why?)\n",
    "def post_scaling(pred_Y):\n",
    "    \"\"\"\n",
    "    type pred_Y: array\n",
    "    rtype: array\n",
    "    \"\"\"\n",
    "    mean, std = np.mean(pred_Y), np.std(pred_Y)\n",
    "    pred_Y = (pred_Y - mean) / std / 8\n",
    "    return np.clip(pred_Y, -1, 1)"
   ]
  },
  {
   "cell_type": "code",
   "execution_count": 206,
   "metadata": {
    "scrolled": false
   },
   "outputs": [],
   "source": [
    "# Getting some insights for feature engineering from correlation analysis\n",
    "#corrcols = [col for col in merged_data.columns if col not in ['time', 'assetCode', 'assetName', 'universe', 'returnsOpenNextMktres10']]\n",
    "#print('pearson correlation and its p value between returnsOpenNextMktres10 and each feature:')\n",
    "#print('-------------------------------------------------------------------------------------')\n",
    "#for i in range(len(corrcols)):\n",
    "#    print('with ' + corrcols[i] + ': ' + str(pearsonr(merged_data[corrcols[i]], merged_data.returnsOpenNextMktres10)))\n",
    "\n",
    "## a few remarks:\n",
    "# 1. 'open' price and returns are much more relevant than 'close'\n",
    "# 2. 'daytrend' is an important feature"
   ]
  },
  {
   "cell_type": "code",
   "execution_count": 207,
   "metadata": {},
   "outputs": [
    {
     "name": "stdout",
     "output_type": "stream",
     "text": [
      "Importing the merged dataset... This may take a minute.\n",
      "Done!\n"
     ]
    }
   ],
   "source": [
    "# Importing the merged dataset\n",
    "print('Importing the merged dataset... This may take a minute.')\n",
    "# number of rows that news are merged: 1147200/4072956 (by assetCode), 1106497 (by assetName)\n",
    "merged_data = pd.read_csv(\"./merged_all.csv\")\n",
    "# dropping data of the financial crisis period (ended on June 2009 according to NBER)\n",
    "merged_data = merged_data[merged_data['time']>='2009-07-01'] # 3140398/4072956 remain\n",
    "print('Done!')"
   ]
  },
  {
   "cell_type": "code",
   "execution_count": 208,
   "metadata": {},
   "outputs": [
    {
     "name": "stdout",
     "output_type": "stream",
     "text": [
      "Removing outliers...\n",
      "187208 rows of sample are removed as outliers.\n",
      "Done!\n"
     ]
    }
   ],
   "source": [
    "# Handling outliers\n",
    "# tutorial: https://machinelearningmastery.com/how-to-identify-outliers-in-your-data/\n",
    "print('Removing outliers...')\n",
    "Raw_cols = ['returnsClosePrevRaw1', 'returnsOpenPrevRaw1', 'returnsClosePrevRaw10', 'returnsOpenPrevRaw10']\n",
    "Mktres_cols = ['returnsClosePrevMktres1', 'returnsOpenPrevMktres1', 'returnsClosePrevMktres10', 'returnsOpenPrevMktres10']\n",
    "outliercols = ['volume', 'close', 'open'] + Raw_cols + Mktres_cols\n",
    "before_removal = len(merged_data)\n",
    "merged_data = remove_outliers(merged_data, outliercols, m=3)\n",
    "print(str(before_removal - len(merged_data)) + ' rows of sample are removed as outliers.')\n",
    "print('Done!')"
   ]
  },
  {
   "cell_type": "code",
   "execution_count": 241,
   "metadata": {},
   "outputs": [
    {
     "name": "stdout",
     "output_type": "stream",
     "text": [
      "Preparing data for training...\n",
      "Preparing data for training took 2 minutes.\n"
     ]
    }
   ],
   "source": [
    "print('Preparing data for training...')\n",
    "#lag_features_window_10 = ['returnsOpenPrevMktres10']\n",
    "#lag_features_window_1 = []\n",
    "lag_features_window_10 = ['returnsOpenPrevMktres10', 'returnsOpenPrevRaw10', 'returnClosePrevMkt10', 'returnOpenPrevMkt10']\n",
    "lag_features_window_1 = ['returnClosePrevMkt1', 'returnOpenPrevMkt1'] # creating lag features for the top six important features\n",
    "n_lag = 2\n",
    "prepare_start = time.time()\n",
    "cdf = prepare_data(merged_data, lag_features_window_10, lag_features_window_1, n_lag)\n",
    "print(\"Preparing data for training took %.0f minutes.\" % math.ceil((time.time() - prepare_start)/60))\n",
    "# del merged_data"
   ]
  },
  {
   "cell_type": "code",
   "execution_count": 242,
   "metadata": {},
   "outputs": [],
   "source": [
    "# Defining training and target features\n",
    "mdf = cdf # adjust based on cdf\n",
    "targetcol = 'target'\n",
    "mdf[targetcol] = (mdf['returnsOpenNextMktres10'] > 0).astype(int) # we be classifying binary variable\n",
    "# Based on prepared data mdf, select different training columns and try:\n",
    "#traincols = ['returnsOpenPrevMktres10', 'returnsOpenPrevMktres10_lag_1',\\\n",
    "                #'returnsOpenPrevMktres10_lag_2'\n",
    "                #'returnsOpenPrevMktres10_lag_3',\\\n",
    "                #'returnsOpenPrevMktres10_lag_4',\\\n",
    "                #'returnsOpenPrevMktres10_lag_5',\\\n",
    "#                'returnsOpenPrevMktres1']\n",
    "\n",
    "Mkt_cols = ['returnClosePrevMkt1', 'returnOpenPrevMkt1', 'returnClosePrevMkt10', 'returnOpenPrevMkt10']\n",
    "dropfeatures = ['firstMentionSentence', 'sentenceCount', 'sentimentWordCount', 'wordCount',\\\n",
    "                       'urgency', 'takeSequence', 'marketCommentary','relevance', 'sentimentClass',\\\n",
    "                       'noveltyCount12H', 'noveltyCount24H', 'noveltyCount3D', 'noveltyCount5D', 'noveltyCount7D',\\\n",
    "                       'volumeCounts12H', 'volumeCounts24H', 'volumeCounts3D', 'volumeCounts5D', 'noNews']\n",
    "#                       'bodySize', 'companyCount', 'sentimentNegative', 'sentimentNeutral', 'sentimentPositive', 'volumeCounts7D', \\\n",
    "#                       'position', 'coverage']\n",
    "#                + ['volume', 'close', 'open', 'daytrend'] \\\n",
    "#                + ['returnsClosePrevMktres1', 'returnsOpenPrevMktres1', 'returnsClosePrevRaw1', 'returnsOpenPrevRaw1',\\\n",
    "#                  'returnsClosePrevRaw10', 'returnsOpenPrevRaw10', 'returnsClosePrevMktres10']\n",
    "# keep bodySize, companyCount, sentimentNegative, sentimentNeutral, sentimentPositive, volumeCounts7D (6)\n",
    "# & position, coverage, noNews (3)\n",
    "    \n",
    "traincols = [col for col in mdf.columns if col not in ['time', 'assetCode', 'assetName', 'universe', 'returnsOpenNextMktres10'] + [targetcol] + dropfeatures]"
   ]
  },
  {
   "cell_type": "code",
   "execution_count": 243,
   "metadata": {
    "scrolled": true
   },
   "outputs": [
    {
     "name": "stdout",
     "output_type": "stream",
     "text": [
      "Building training/validation/test sets...\n",
      "-------------------------\n",
      "The data spans 1890 days.\n",
      "We assign data of the first 65% dates as the training set,...\n",
      "the next 15% dates as the validation set,...\n",
      "and the last 20% dates as the test set.\n",
      "-------------------------\n",
      "We'll train 2324929 samples with 46 features\n"
     ]
    }
   ],
   "source": [
    "# Splitting the dataset into training, validation and test sets\n",
    "print('Building training/validation/test sets...')\n",
    "print('-------------------------')\n",
    "dates = mdf['time'].unique()\n",
    "print('The data spans ' + str(len(dates)) + ' days.')\n",
    "print('We assign data of the first 65% dates as the training set,...')\n",
    "print('the next 15% dates as the validation set,...')\n",
    "print('and the last 20% dates as the test set.')\n",
    "train = range(len(dates))[:int(0.65*len(dates))]\n",
    "val = range(len(dates))[int(0.65*len(dates)):int(0.80*len(dates))]\n",
    "test = range(len(dates))[int(0.80*len(dates)):]\n",
    "\n",
    "# train data\n",
    "X_train = mdf[traincols].loc[mdf['time'].isin(dates[train])].values\n",
    "Y_train = mdf[targetcol].loc[mdf['time'].isin(dates[train])].values\n",
    "# validation data\n",
    "X_val = mdf[traincols].loc[mdf['time'].isin(dates[val])].values\n",
    "Y_val = mdf[targetcol].loc[mdf['time'].isin(dates[val])].values\n",
    "# test data\n",
    "X_test = mdf[['time'] + traincols].loc[mdf['time'].isin(dates[test])] # need to extract by time when predict\n",
    "Y_test = mdf[['time', targetcol]].loc[mdf['time'].isin(dates[test])]\n",
    "\n",
    "print('-------------------------')\n",
    "print(\"We'll train \" + str(len(X_train) + len(X_val)) + ' samples with ' + str(np.size(X_train, 1)) + ' features')"
   ]
  },
  {
   "cell_type": "code",
   "execution_count": 244,
   "metadata": {},
   "outputs": [],
   "source": [
    "# Feature scaling\n",
    "sc = StandardScaler()\n",
    "X_train = sc.fit_transform(X_train)\n",
    "X_val = sc.transform(X_val)\n",
    "X_test[traincols] = sc.transform(X_test[traincols].values)"
   ]
  },
  {
   "cell_type": "code",
   "execution_count": 245,
   "metadata": {
    "scrolled": true
   },
   "outputs": [
    {
     "name": "stdout",
     "output_type": "stream",
     "text": [
      "Training LightGBM...\n",
      "--------------------\n",
      "Training until validation scores don't improve for 100 rounds.\n",
      "[200]\ttraining's binary_logloss: 0.682832\tvalid_1's binary_logloss: 0.688408\n",
      "[400]\ttraining's binary_logloss: 0.676833\tvalid_1's binary_logloss: 0.686842\n",
      "[600]\ttraining's binary_logloss: 0.672268\tvalid_1's binary_logloss: 0.686465\n",
      "[800]\ttraining's binary_logloss: 0.668413\tvalid_1's binary_logloss: 0.686426\n",
      "Early stopping, best iteration is:\n",
      "[819]\ttraining's binary_logloss: 0.668057\tvalid_1's binary_logloss: 0.686399\n",
      "--------------------\n",
      "Training is done!\n",
      "Training LightGBM took 7 minutes.\n"
     ]
    }
   ],
   "source": [
    "#######################################\n",
    "##\n",
    "## LightGBM: training\n",
    "## online tutorials:\n",
    "## doc: https://lightgbm.readthedocs.io/en/latest/Parameters-Tuning.html\n",
    "## blog: https://medium.com/@pushkarmandot/https-medium-com-pushkarmandot-what-is-lightgbm-how-to-implement-it-how-to-fine-tune-the-parameters-60347819b7fc\n",
    "##\n",
    "#######################################\n",
    "print('Training LightGBM...')\n",
    "print('--------------------')\n",
    "\n",
    "t = [80, -1, 0.003]\n",
    "#t = [32, -1, 0.01] # from Fang\n",
    "\n",
    "params = {'objective': 'binary',\n",
    "          'metric': 'binary_logloss',\n",
    "          'num_leaves': t[0], # larger for better accuracy\n",
    "          'max_depth': t[1], # larger for better accuracy. No limit: <0\n",
    "          #'min_data_in_leaf': t[2], # hundreds to thousands: larger to prevent over-fitting\n",
    "          #'max_bin': 512,\n",
    "          #'subsample_for_bin': 200,\n",
    "          #'subsample': 0.7,\n",
    "          #'subsample_freq': 1,\n",
    "          #'colsample_bytree': 0.65,\n",
    "          #'reg_alpha': 1.2,\n",
    "          #'reg_lambda': 1,\n",
    "          #'min_split_gain': 0.5,\n",
    "          #'min_child_weight': 1,\n",
    "          #'min_child_samples': 5,\n",
    "          'learning_rate': t[2], # smaller for better accuracy\n",
    "          'bagging_fraction': 0.9, # subsample\n",
    "          'feature_fraction': 0.9, # colsample_bytree\n",
    "          'bagging_freq': 5,       # subsample_freq\n",
    "          'bagging_seed': 2018,\n",
    "          'verbosity': -1}\n",
    "\n",
    "lgtrain, lgval = lgb.Dataset(X_train, Y_train), lgb.Dataset(X_val, Y_val)\n",
    "\n",
    "train_start = time.time()\n",
    "lgbmodel = lgb.train(params, lgtrain, 2000, valid_sets=[lgtrain, lgval], early_stopping_rounds=100, verbose_eval=200)\n",
    "print('--------------------')\n",
    "print('Training is done!')\n",
    "print(\"Training LightGBM took %.0f minutes.\" % math.ceil((time.time() - train_start)/60))"
   ]
  },
  {
   "cell_type": "code",
   "execution_count": 246,
   "metadata": {},
   "outputs": [
    {
     "name": "stdout",
     "output_type": "stream",
     "text": [
      "Generating predictions...\n",
      "-------------------------\n",
      "628261 samples to be predicted... This may take several minutes\n",
      "prediction is done!\n",
      "prediction took 3 minutes.\n",
      "-------------------------\n",
      "accuracy of correct sign prediction is:  0.5475574641749209\n",
      "our submission score is:  0.5860241370611442\n"
     ]
    }
   ],
   "source": [
    "#######################################\n",
    "##\n",
    "## LightGBM: prediction\n",
    "##\n",
    "#######################################\n",
    "print('Generating predictions...')\n",
    "print('-------------------------')\n",
    "print(str(len(X_test)) + ' samples to be predicted... This may take several minutes')\n",
    "Predtemplatedf = mdf[['time', 'assetCode', 'universe', 'returnsOpenNextMktres10']].loc[mdf['time'].isin(dates[test])]\n",
    "score = pd.DataFrame({'time': dates[test], 'daily_score': np.zeros(len(test))})\n",
    "# in submission version, can drop rows that universe==0 from the test set\n",
    "\n",
    "Y_pred = np.array([])\n",
    "\n",
    "pred_start = time.time()\n",
    "for predday in dates[test]:\n",
    "    x_test = X_test[traincols].loc[X_test['time'] == predday].values\n",
    "    y_pred = lgbmodel.predict(x_test, num_iteration=lgbmodel.best_iteration) * 2 - 1 # transform [0,1] to [-1,1]\n",
    "    Y_pred = np.append(Y_pred, y_pred)\n",
    "    #y_test = Y_test[targetcol].loc[Y_test['time'] == predday].values\n",
    "    #accuracy.append(np.sign(y_pred) == np.sign(y_test))\n",
    "    predtemplatedf = Predtemplatedf[Predtemplatedf['time'] == predday]\n",
    "    predtemplatedf = predtemplatedf.assign(confidenceValue = post_scaling(y_pred))\n",
    "    score.loc[score['time'] == predday, 'daily_score'] = daily_score(predtemplatedf)\n",
    "print('prediction is done!')\n",
    "print('prediction took %.0f minutes.' % math.ceil((time.time() - pred_start)/60))\n",
    "print('-------------------------')\n",
    "Y_testsign = Y_test[targetcol].values *2 - 1\n",
    "assert len(Y_testsign) == len(Y_pred)\n",
    "accuracy = (Y_testsign == np.sign(Y_pred))\n",
    "accurate = sum(accuracy) / len(Y_test)\n",
    "print('accuracy of correct sign prediction is: ', accurate)\n",
    "submission_score = final_score(score)\n",
    "print('our submission score is: ', submission_score)"
   ]
  },
  {
   "cell_type": "code",
   "execution_count": 136,
   "metadata": {},
   "outputs": [],
   "source": [
    "# plt.plot(np.sort(y_pred), np.linspace(0, 1, len(y_pred), endpoint=False))"
   ]
  },
  {
   "cell_type": "code",
   "execution_count": 247,
   "metadata": {
    "scrolled": false
   },
   "outputs": [
    {
     "data": {
      "image/png": "[encoded data removed]",
      "text/plain": [
       "<Figure size 1440x1080 with 1 Axes>"
      ]
     },
     "metadata": {},
     "output_type": "display_data"
    },
    {
     "data": {
      "text/plain": [
       "<Figure size 432x288 with 0 Axes>"
      ]
     },
     "metadata": {},
     "output_type": "display_data"
    }
   ],
   "source": [
    "# Feature importance\n",
    "import matplotlib.pyplot as plt\n",
    "import seaborn as sns\n",
    "feature_imp = pd.DataFrame(sorted(zip(lgbmodel.feature_importance(importance_type='gain'), traincols)), columns=['Value','Feature'])\n",
    "plt.figure(figsize=(20, 15))\n",
    "sns.barplot(x=\"Value\", y=\"Feature\", data=feature_imp.sort_values(by=\"Value\", ascending=False))\n",
    "plt.title('LightGBM Features (avg over folds)')\n",
    "plt.tight_layout()\n",
    "plt.show()\n",
    "plt.savefig('lgbm_importances-01.png')"
   ]
  },
  {
   "cell_type": "code",
   "execution_count": 283,
   "metadata": {},
   "outputs": [],
   "source": [
    "## record of results:\n",
    "# train merged_success, test merged_success: 0.50\n",
    "# train merged_data, test merged_success: 0.4964\n",
    "## Remark: it seems that training entire merged_data makes no improvement compared to training merged_success which saves time\n",
    "## But, we should test all merged_data not only merged_success!\n",
    "# train merged_data, test merged_data: 0.4827\n",
    "# train merged_success, test merged_data: 0.4844 (I'll use this as benchmark to save time for future test)\n",
    "## feature engineering ...\n",
    "# adding bartrend: 0.4857\n",
    "# adding [bartrend, average, pricevolume]: 0.4790\n",
    "## using new merged_data_assetCodes (115w rows successfully merged compared to 111w of previous version)\n",
    "# merged_data_assetCodes: 0.4888\n",
    "## adding post_scaling: 0.5133 # why rescaling improves prediction performance?\n",
    "## fill in nan & adding laged market features & dropping 'close' features: 0.5088 (max_depth=-1)\n",
    "# set max_depth to 7 to prevent over-fitting: 0.5076\n",
    "# training:\n",
    "# adding back close features, t = [100, -1, nan, nan, 0.01], v_loss = 0.686266, score = 0.5027\n",
    "# t = [100, -1, nan, nan, 0.003], v_loss = 0.686256, score = 0.5030\n",
    "# t = [80, -1, 0.01], new method filling in NaN, removing outliers, adding new features: v_loss = 0.686113, score = 0.5170\n",
    "# t = [80, -1, 0.003], adding more lag returns, dropping moving average: v_loss = 0.685673, score = 0.5108\n",
    "### corrected the lag features of ReturnsPrev10: v_loss = 0.686173, score = 0.5497 !!!\n",
    "# use new merged data by assetName, adding more news features, use Fang's parameters: v_loss = 0.685816, score = 0.5428\n",
    "# use my parameters: v_loss = 0.686107, score = 0.5487\n",
    "# delete the additional parameters from Fang: v_loss = 0.686289, score = 0.5561 !\n",
    "# Remark: The above trials suggest that I should use my own parameters since the dataset are different between local and kernel versions.\n",
    "# Compared to 0.5497 version, using new merged data, adding two news features: v_loss = 0.686365, score = 0.5546\n",
    "# dropping Mktcols: v_loss = 0.687338, score = 0.6056 !!!\n",
    "## try the minimum set of features and use it as benchmark of feature selection:\n",
    "# [returnsOpenPrevMktres10 and its 4 lags]: v_loss = 0.689032, accu = 0.5420, score = 0.6307 !!! This is interesting!\n",
    "## Going forward, the goal is adding features that can beat lag terms of Mktres10:\n",
    "# adding [returnsOpenPrevMktres1, daytrend]: v_loss = 0.688754, score = 0.6186 (decresed)\n",
    "# try to only keep the top 5 features\n",
    "# [returnsOpenPrevMktres10 and 2 lags, daytrend, Mktres1]: v_loss = 0.688786, score = 0.6165\n",
    "# [returnsOpenPrevMktres10 and 3 lags, Mktres1]: v_loss = 0.688965, score = 0.6216 (can't beat just Mktres10)\n",
    "# with no lag: v_loss = 0.690803, accu = 0.5376, score = 0.5693\n",
    "# with 1 lag: v_loss = 0.689483, accu = 0.5413, score = 0.6520 !!!!!\n",
    "# with 2 lags: v_loss = 0.6891, accu = 0.5418, score = 0.6324\n",
    "# with 3 lags: v_loss = 0.689167, accu = 0.5418, score = 0.6303\n",
    "# with 5 lags: v_loss = 0.688947, accu = 0.5420, score = 0.6252\n",
    "### Benchmark (with 1 lag):\n",
    "# add returnsOpenPrevMktres1: v_loss = 0.689054, accu = 0.5429, score = 0.6382\n",
    "# === after a few days debugging on kernel\n",
    "# with 2 lags for six return features, 8 news features: score = 0.5653\n",
    "# and, drop Mkt_cols: score = 0.5964\n",
    "# only keep returns and their lag terms: score = 0.6018\n",
    "# Just to confirm previous result. Only keep returnsOpenPrevMktres10 with 1 lag: score = 0.6526\n",
    "# === based on 0.5653 version\n",
    "# add 10 features using talib: 0.5860"
   ]
  },
  {
   "cell_type": "code",
   "execution_count": null,
   "metadata": {},
   "outputs": [],
   "source": [
    "## to-do:\n",
    "# feature scaling [done!]\n",
    "# pre-process NaN [done!]\n",
    "# adding lag features to account for the time series dependence? [done!]\n",
    "# feature importance? [done!]\n",
    "# excluding outliers of 0.5 < daytrend < 1.5 [think more]\n",
    "# how to train lgbm and check diagnostics? [Fang will do]\n",
    "# use cross-validation to avoid over-fitting [Fang will do]\n",
    "# adding news features\n",
    "# can we use two seperate models to predict those assetCode's with and without news data? (only about 1/4 have news) [add a feature 'noNews']\n",
    "# classifying more than two categories? [try!]\n",
    "# Q: why summing previous 10 returns doesn't equal to Prev10?\n",
    "# more time series features (TA-Lib)"
   ]
  }
 ],
 "metadata": {
  "kernelspec": {
   "display_name": "Python 3",
   "language": "python",
   "name": "python3"
  },
  "language_info": {
   "codemirror_mode": {
    "name": "ipython",
    "version": 3
   },
   "file_extension": ".py",
   "mimetype": "text/x-python",
   "name": "python",
   "nbconvert_exporter": "python",
   "pygments_lexer": "ipython3",
   "version": "3.6.5"
  }
 },
 "nbformat": 4,
 "nbformat_minor": 2
}
